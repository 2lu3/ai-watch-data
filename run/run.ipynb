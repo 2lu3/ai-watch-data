{
 "cells": [
  {
   "cell_type": "code",
   "execution_count": null,
   "metadata": {},
   "outputs": [],
   "source": [
    "import sys\n",
    "sys.path.append('./../code')"
   ]
  },
  {
   "cell_type": "code",
   "execution_count": null,
   "metadata": {},
   "outputs": [],
   "source": [
    "features = {\n",
    "    \n",
    "}\n",
    "\n",
    "params_lgb = {\n",
    "    \n",
    "}\n",
    "\n",
    "cv = {\n",
    "    'method': 'KFold',\n",
    "    'n_splits': 5,\n",
    "    'random_state': 42,\n",
    "    'shuffle': True,\n",
    "}\n",
    "\n",
    "runner = Runner(run_name, ModelLGB, features, dataset.get('target'), params_lgb, cv, FEATURE_DIR_NAME, MODEL_DIR_NAME)\n",
    "runner.run_train_cv()\n",
    "runner.run_predict_cv()\n"
   ]
  }
 ],
 "metadata": {
  "kernelspec": {
   "display_name": "Python 3",
   "language": "python",
   "name": "python3"
  },
  "language_info": {
   "codemirror_mode": {
    "name": "ipython",
    "version": 3
   },
   "file_extension": ".py",
   "mimetype": "text/x-python",
   "name": "python",
   "nbconvert_exporter": "python",
   "pygments_lexer": "ipython3",
   "version": "3.7.3"
  }
 },
 "nbformat": 4,
 "nbformat_minor": 2
}
