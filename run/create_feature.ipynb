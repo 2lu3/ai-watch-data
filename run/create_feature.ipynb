{
 "cells": [
  {
   "cell_type": "code",
   "execution_count": 9,
   "metadata": {},
   "outputs": [],
   "source": [
    "import sys\n",
    "sys.path.append('./../code')\n",
    "from model_lgb import ModelLGB\n",
    "from dataset import Dataset\n",
    "from feature import Feature\n",
    "\n",
    "import numpy as np\n",
    "\n",
    "np.set_printoptions(threshold=1000000)"
   ]
  },
  {
   "cell_type": "code",
   "execution_count": 11,
   "metadata": {},
   "outputs": [
    {
     "name": "stdout",
     "output_type": "stream",
     "text": [
      "['人口' '傷病程度：その他' '傷病程度：中等症' '傷病程度：死亡' '傷病程度：軽症' '傷病程度：重症' '天気概況(夜)'\n",
      " '天気概況(昼)' '平均気温' '平均湿度' '平均現地気圧' '平均蒸気圧' '平均雲量' '平均風速' '年齢区分：不明'\n",
      " '年齢区分：乳幼児' '年齢区分：少年' '年齢区分：成人' '年齢区分：新生児' '年齢区分：高齢者' 'target' 'date'\n",
      " '日照時間' '最低気温' '最高気温' '発生場所：その他' '発生場所：仕事場①' '発生場所：仕事場②' '発生場所：住居'\n",
      " '発生場所：公衆(屋内)' '発生場所：公衆(屋外)' '発生場所：教育機関' '発生場所：道路' '県名' '降水量' 'Sunday'\n",
      " 'Monday' 'Tuesday' 'Wednesday' 'Thursday' 'Friday' 'Saturday']\n"
     ]
    }
   ],
   "source": [
    "print(np.array(Dataset.get_all_feature_names()))"
   ]
  }
 ],
 "metadata": {
  "kernelspec": {
   "display_name": "Python 3",
   "language": "python",
   "name": "python3"
  },
  "language_info": {
   "codemirror_mode": {
    "name": "ipython",
    "version": 3
   },
   "file_extension": ".py",
   "mimetype": "text/x-python",
   "name": "python",
   "nbconvert_exporter": "python",
   "pygments_lexer": "ipython3",
   "version": "3.7.3"
  }
 },
 "nbformat": 4,
 "nbformat_minor": 2
}
