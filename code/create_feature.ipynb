{
 "cells": [
  {
   "cell_type": "code",
   "execution_count": 19,
   "metadata": {},
   "outputs": [
    {
     "ename": "SyntaxError",
     "evalue": "invalid syntax (<ipython-input-19-0d1c8038e3de>, line 4)",
     "output_type": "error",
     "traceback": [
      "\u001b[1;36m  File \u001b[1;32m\"<ipython-input-19-0d1c8038e3de>\"\u001b[1;36m, line \u001b[1;32m4\u001b[0m\n\u001b[1;33m    from model_lgbm import ModelLGB}\u001b[0m\n\u001b[1;37m                                   ^\u001b[0m\n\u001b[1;31mSyntaxError\u001b[0m\u001b[1;31m:\u001b[0m invalid syntax\n"
     ]
    }
   ],
   "source": [
    "from feature import Feature\n",
    "from util import Util\n",
    "from runner import Runner\n",
    "from model_lgbm import ModelLGB}"
   ]
  },
  {
   "cell_type": "code",
   "execution_count": 25,
   "metadata": {},
   "outputs": [],
   "source": [
    "feature_names = [\n",
    "    'target', '最高気温', '平均気温', '最低気温', '平均湿度',\n",
    "    '平均現地気圧', '平均蒸気圧', '平均雲量', '平均風速', '日照時間'\n",
    "]\n",
    "feature = Feature(feature_names)"
   ]
  },
  {
   "cell_type": "code",
   "execution_count": 26,
   "metadata": {},
   "outputs": [],
   "source": [
    "feature.standarlization()\n",
    "dataset = feature.get_dataset()"
   ]
  },
  {
   "cell_type": "markdown",
   "metadata": {},
   "source": [
    "### 2つを掛け合わせる"
   ]
  },
  {
   "cell_type": "code",
   "execution_count": 22,
   "metadata": {},
   "outputs": [],
   "source": [
    "for i, name_a in enumerate(feature_names):\n",
    "    if name_a == 'target':\n",
    "        continue\n",
    "    for j, name_b in enumerate(feature_names):\n",
    "        if i >= j:\n",
    "            continue\n",
    "        name = name_a + '_x_' + name_b\n",
    "        \n",
    "        dataset[name] = dataset[name_a] * dataset[name_b]\n",
    "        Util.dump(dataset[name], r'G:/マイドライブ/research2019/2019/ai-watch-data/features/' + name + '.pkl')"
   ]
  },
  {
   "cell_type": "code",
   "execution_count": 38,
   "metadata": {},
   "outputs": [],
   "source": [
    "def multipy_all(multipy_num, dataset):\n",
    "    def multipy(target_num, require_least_num, names):\n",
    "        if target_num == multipy_num:\n",
    "            name = names[0]\n",
    "            for i in range(1, multipy_num):\n",
    "                name += '_x_' + names[i]\n",
    "            dataset[name] = dataset[names[0]].copy()\n",
    "            for i in range(1, multipy_num):\n",
    "                dataset[name] = dataset[name] * dataset[names[i]]\n",
    "            Util.dump(dataset[name], r'G:/マイドライブ/research2019/2019/ai-watch-data/features/' + name + '.pkl')\n",
    "        for i in range(require_least_num, len(feature_names)):\n",
    "            if feature_names[i] == 'target':\n",
    "                continue\n",
    "            multipy(target_num + 1, i + 1, names + [feature_names[i]])\n",
    "    multipy(0, 0, [])\n",
    "multipy_all(3, dataset)"
   ]
  },
  {
   "cell_type": "code",
   "execution_count": null,
   "metadata": {},
   "outputs": [],
   "source": [
    "runner = Runner('test', ModelLGBM, )"
   ]
  }
 ],
 "metadata": {
  "kernelspec": {
   "display_name": "Python 3",
   "language": "python",
   "name": "python3"
  },
  "language_info": {
   "codemirror_mode": {
    "name": "ipython",
    "version": 3
   },
   "file_extension": ".py",
   "mimetype": "text/x-python",
   "name": "python",
   "nbconvert_exporter": "python",
   "pygments_lexer": "ipython3",
   "version": "3.7.3"
  }
 },
 "nbformat": 4,
 "nbformat_minor": 2
}
