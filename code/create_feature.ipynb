{
 "cells": [
  {
   "cell_type": "code",
   "execution_count": 1,
   "metadata": {},
   "outputs": [],
   "source": [
    "from feature import Feature\n",
    "from util import Util\n",
    "from runner import Runner\n",
    "from model_lgb import ModelLGB\n",
    "from dataset import Dataset\n",
    "import pandas as pd"
   ]
  },
  {
   "cell_type": "code",
   "execution_count": 2,
   "metadata": {},
   "outputs": [],
   "source": [
    "feature_names = [\n",
    "    'target', '最高気温', '平均気温', '最低気温', '平均湿度',\n",
    "    '平均現地気圧', '平均蒸気圧', '平均雲量', '平均風速', '日照時間', 'date'\n",
    "]\n",
    "feature = Feature(feature_names)"
   ]
  },
  {
   "cell_type": "code",
   "execution_count": 3,
   "metadata": {},
   "outputs": [],
   "source": [
    "feature.standarlization()\n",
    "dataset = feature.get_dataset()"
   ]
  },
  {
   "cell_type": "markdown",
   "metadata": {},
   "source": [
    "### n個をかけ合わせる"
   ]
  },
  {
   "cell_type": "code",
   "execution_count": 18,
   "metadata": {},
   "outputs": [],
   "source": [
    "def multipy_all(multipy_num, dataset, feature_names):\n",
    "    def multipy(target_num, require_least_num, names):\n",
    "        if target_num == multipy_num:\n",
    "            name = names[0]\n",
    "            for i in range(1, multipy_num):\n",
    "                name += '_x_' + names[i]\n",
    "            dataset[name] = dataset[names[0]].copy()\n",
    "            for i in range(1, multipy_num):\n",
    "                dataset[name] = dataset[name] * dataset[names[i]]\n",
    "            Util.dump(dataset[name], r'G:/マイドライブ/research2019/2019/ai-watch-data/features/' + name + '.pkl')\n",
    "        for i in range(require_least_num, len(feature_names)):\n",
    "            if feature_names[i] == 'target' or feature_names[i] == 'date':\n",
    "                continue\n",
    "            multipy(target_num + 1, i + 1, names + [feature_names[i]])\n",
    "    multipy(0, 0, [])"
   ]
  },
  {
   "cell_type": "code",
   "execution_count": 19,
   "metadata": {},
   "outputs": [],
   "source": [
    "multipy_all(3, dataset, feature_names)\n",
    "multipy_all(4, dataset, feature_names)\n",
    "multipy_all(5, dataset, feature_names)\n",
    "multipy_all(6, dataset, feature_names)"
   ]
  },
  {
   "cell_type": "markdown",
   "metadata": {},
   "source": [
    "### 曜日を追加"
   ]
  },
  {
   "cell_type": "code",
   "execution_count": 4,
   "metadata": {},
   "outputs": [],
   "source": [
    "def date2WeekDayNumber(date):\n",
    "    return pd.to_datetime(date).day_name()\n",
    "weekday_names = ['Sunday', 'Monday', 'Tuesday', 'Wednesday', 'Thursday', 'Friday', 'Saturday']\n",
    "for name in weekday_names:\n",
    "    dataset[name] = (dataset['date'].map(date2WeekDayNumber) == name).astype('float32')\n",
    "    feature.register_feature(dataset[name], name)"
   ]
  },
  {
   "cell_type": "code",
   "execution_count": null,
   "metadata": {},
   "outputs": [],
   "source": []
  }
 ],
 "metadata": {
  "kernelspec": {
   "display_name": "Python 3",
   "language": "python",
   "name": "python3"
  },
  "language_info": {
   "codemirror_mode": {
    "name": "ipython",
    "version": 3
   },
   "file_extension": ".py",
   "mimetype": "text/x-python",
   "name": "python",
   "nbconvert_exporter": "python",
   "pygments_lexer": "ipython3",
   "version": "3.6.9"
  }
 },
 "nbformat": 4,
 "nbformat_minor": 2
}
