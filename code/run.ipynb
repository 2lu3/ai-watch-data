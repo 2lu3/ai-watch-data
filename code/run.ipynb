{
 "cells": [
  {
   "cell_type": "code",
   "execution_count": 1,
   "metadata": {},
   "outputs": [],
   "source": [
    "from runner import Runner\n",
    "from model_lgb import ModelLGB\n",
    "import matplotlib.pyplot as plt\n",
    "import pandas as pd"
   ]
  },
  {
   "cell_type": "code",
   "execution_count": 2,
   "metadata": {},
   "outputs": [],
   "source": [
    "plt.rcParams[\"font.size\"] = 18"
   ]
  },
  {
   "cell_type": "code",
   "execution_count": 3,
   "metadata": {},
   "outputs": [],
   "source": [
    "prms = {\n",
    "    # lightGBM\n",
    "    'num_round': 10000,\n",
    "    'early_stopping_rounds': 10,\n",
    "    'task': 'train',\n",
    "    'boosting_type': 'gbdt',\n",
    "    'objective': 'regression',\n",
    "    'metrics': 'huber',\n",
    "    'num_leaves': 30,\n",
    "    'learning_rate': 0.3,\n",
    "    'verbose': 0,\n",
    "    \n",
    "    # target\n",
    "    'target': 'target',\n",
    "    \n",
    "    # 街・年\n",
    "    'cities': ['tokyo'],\n",
    "    'train_years': [i for i in range(2008, 2017)],\n",
    "    'valid_years': [2017],\n",
    "    'test_years': [2018],\n",
    "    \n",
    "    # cv\n",
    "    'cv': 'manual',\n",
    "}\n",
    "features = [\n",
    "    'target','最高気温', '平均気温', '最低気温', '平均湿度',\n",
    "    '平均現地気圧', '平均蒸気圧', '平均雲量', '平均風速', '日照時間'\n",
    "]"
   ]
  },
  {
   "cell_type": "code",
   "execution_count": 4,
   "metadata": {},
   "outputs": [
    {
     "ename": "AttributeError",
     "evalue": "'Runner' object has no attribute 'sities'",
     "output_type": "error",
     "traceback": [
      "\u001b[1;31m---------------------------------------------------------------------------\u001b[0m",
      "\u001b[1;31mAttributeError\u001b[0m                            Traceback (most recent call last)",
      "\u001b[1;32m<ipython-input-4-0ed34e206dc4>\u001b[0m in \u001b[0;36m<module>\u001b[1;34m\u001b[0m\n\u001b[0;32m      1\u001b[0m \u001b[0mrunner\u001b[0m \u001b[1;33m=\u001b[0m \u001b[0mRunner\u001b[0m\u001b[1;33m(\u001b[0m\u001b[1;34m'test'\u001b[0m\u001b[1;33m,\u001b[0m \u001b[0mModelLGB\u001b[0m\u001b[1;33m,\u001b[0m \u001b[0mfeatures\u001b[0m\u001b[1;33m,\u001b[0m \u001b[0mprms\u001b[0m\u001b[1;33m)\u001b[0m\u001b[1;33m\u001b[0m\u001b[1;33m\u001b[0m\u001b[0m\n\u001b[1;32m----> 2\u001b[1;33m \u001b[0mrunner\u001b[0m\u001b[1;33m.\u001b[0m\u001b[0mrun\u001b[0m\u001b[1;33m(\u001b[0m\u001b[1;33m)\u001b[0m\u001b[1;33m\u001b[0m\u001b[1;33m\u001b[0m\u001b[0m\n\u001b[0m",
      "\u001b[1;32mD:\\hikaru\\Desktop\\programming\\ai-watch-data\\code\\runner.py\u001b[0m in \u001b[0;36mrun\u001b[1;34m(self)\u001b[0m\n\u001b[0;32m     77\u001b[0m     \u001b[1;32mdef\u001b[0m \u001b[0mrun\u001b[0m\u001b[1;33m(\u001b[0m\u001b[0mself\u001b[0m\u001b[1;33m)\u001b[0m\u001b[1;33m:\u001b[0m\u001b[1;33m\u001b[0m\u001b[1;33m\u001b[0m\u001b[0m\n\u001b[0;32m     78\u001b[0m         \u001b[1;32mif\u001b[0m \u001b[0mself\u001b[0m\u001b[1;33m.\u001b[0m\u001b[0mcv\u001b[0m \u001b[1;33m==\u001b[0m \u001b[1;34m\"manual\"\u001b[0m\u001b[1;33m:\u001b[0m\u001b[1;33m\u001b[0m\u001b[1;33m\u001b[0m\u001b[0m\n\u001b[1;32m---> 79\u001b[1;33m             \u001b[0mtr_X\u001b[0m\u001b[1;33m,\u001b[0m \u001b[0mtr_Y\u001b[0m \u001b[1;33m=\u001b[0m \u001b[0mself\u001b[0m\u001b[1;33m.\u001b[0m\u001b[0m__get_train_data\u001b[0m\u001b[1;33m(\u001b[0m\u001b[1;33m)\u001b[0m\u001b[1;33m\u001b[0m\u001b[1;33m\u001b[0m\u001b[0m\n\u001b[0m\u001b[0;32m     80\u001b[0m             \u001b[0mva_X\u001b[0m\u001b[1;33m,\u001b[0m \u001b[0mva_Y\u001b[0m \u001b[1;33m=\u001b[0m \u001b[0mself\u001b[0m\u001b[1;33m.\u001b[0m\u001b[0m__get_valid_data\u001b[0m\u001b[1;33m(\u001b[0m\u001b[1;33m)\u001b[0m\u001b[1;33m\u001b[0m\u001b[1;33m\u001b[0m\u001b[0m\n\u001b[0;32m     81\u001b[0m             \u001b[0mte_X\u001b[0m\u001b[1;33m,\u001b[0m \u001b[0mte_Y\u001b[0m \u001b[1;33m=\u001b[0m \u001b[0mself\u001b[0m\u001b[1;33m.\u001b[0m\u001b[0m__get_test_data\u001b[0m\u001b[1;33m(\u001b[0m\u001b[1;33m)\u001b[0m\u001b[1;33m\u001b[0m\u001b[1;33m\u001b[0m\u001b[0m\n",
      "\u001b[1;32mD:\\hikaru\\Desktop\\programming\\ai-watch-data\\code\\runner.py\u001b[0m in \u001b[0;36m__get_train_data\u001b[1;34m(self)\u001b[0m\n\u001b[0;32m    117\u001b[0m     \u001b[1;32mdef\u001b[0m \u001b[0m__get_train_data\u001b[0m\u001b[1;33m(\u001b[0m\u001b[0mself\u001b[0m\u001b[1;33m)\u001b[0m\u001b[1;33m:\u001b[0m\u001b[1;33m\u001b[0m\u001b[1;33m\u001b[0m\u001b[0m\n\u001b[0;32m    118\u001b[0m         return self.__split_x_y(\n\u001b[1;32m--> 119\u001b[1;33m                 self.dataset.get_data(self.train_years, self.sities))\n\u001b[0m\u001b[0;32m    120\u001b[0m \u001b[1;33m\u001b[0m\u001b[0m\n\u001b[0;32m    121\u001b[0m     \u001b[1;32mdef\u001b[0m \u001b[0m__get_valid_data\u001b[0m\u001b[1;33m(\u001b[0m\u001b[0mself\u001b[0m\u001b[1;33m)\u001b[0m\u001b[1;33m:\u001b[0m\u001b[1;33m\u001b[0m\u001b[1;33m\u001b[0m\u001b[0m\n",
      "\u001b[1;31mAttributeError\u001b[0m: 'Runner' object has no attribute 'sities'"
     ]
    }
   ],
   "source": [
    "runner = Runner('test', ModelLGB, features, prms)\n",
    "runner.run()"
   ]
  },
  {
   "cell_type": "code",
   "execution_count": null,
   "metadata": {},
   "outputs": [],
   "source": [
    "def get_all_multipy_names(multipy_num, feature_names):\n",
    "    def multipy(target_num, require_least_num, names):\n",
    "        if target_num == multipy_num:\n",
    "            name = names[0]\n",
    "            for i in range(1, multipy_num):\n",
    "                name += '_x_' + names[i]\n",
    "            return name\n",
    "        for i in range(require_least_num, len(feature_names)):\n",
    "            if feature_names[i] == 'target':\n",
    "                continue\n",
    "            result = multipy(target_num + 1, i + 1, names + [feature_names[i]])\n",
    "            if result is not None:\n",
    "                all_feature_names.append(result)\n",
    "    all_feature_names = []\n",
    "    multipy(0, 0, [])\n",
    "    return all_feature_names"
   ]
  },
  {
   "cell_type": "code",
   "execution_count": null,
   "metadata": {},
   "outputs": [],
   "source": [
    "feature_names = features.copy()\n",
    "for i in range(2, 7):\n",
    "    names = get_all_multipy_names(i, feature_names)\n",
    "    features += names\n",
    "features += ['Sunday', 'Monday', 'Tuesday', 'Wednesday', 'Thursday', 'Friday', 'Saturday']"
   ]
  },
  {
   "cell_type": "code",
   "execution_count": null,
   "metadata": {},
   "outputs": [],
   "source": [
    "features"
   ]
  },
  {
   "cell_type": "code",
   "execution_count": null,
   "metadata": {},
   "outputs": [],
   "source": [
    "dataset = Dataset(features)\n",
    "#dataset.add_past_day_data([i for i in range(1, 4)])\n",
    "\n",
    "runner = Runner('test', ModelLGBM, dataset, train_years, test_years, prms)\n",
    "\n",
    "runner.run_train_cv()\n",
    "runner.run_predict_cv()\n",
    "\n",
    "%matplotlib inline\n",
    "pred, correct,_ = runner.get_predict_cv()\n",
    "plt.figure(figsize=(30, 30))\n",
    "plt.plot(pred, color='r')\n",
    "\n",
    "plt.plot(correct.values, color='black')\n",
    "plt.show()"
   ]
  },
  {
   "cell_type": "code",
   "execution_count": null,
   "metadata": {},
   "outputs": [],
   "source": [
    "# 特徴量の重要度をプロットする\n",
    "model = ModelLGBM('test-3', features)\n",
    "model.load_model()\n",
    "plt.figure(figsize=(200, 200))\n",
    "lgb.plot_importance(model.model, figsize=(3, 100))\n",
    "plt.savefig('data.png')"
   ]
  },
  {
   "cell_type": "code",
   "execution_count": null,
   "metadata": {
    "scrolled": true
   },
   "outputs": [],
   "source": [
    "features = [\n",
    "    '最高気温',\n",
    "    '最高気温_x_平均気温',\n",
    "    '最高気温_x_平均気温_x_平均蒸気圧',\n",
    "    'target'\n",
    "]\n",
    "\n",
    "dataset = Dataset(features)\n",
    "\n",
    "runner = Runner('test', ModelLGBM, dataset, train_years, test_years, prms)\n",
    "\n",
    "runner.run_train_cv()\n",
    "runner.run_predict_cv()\n",
    "\n",
    "%matplotlib inline\n",
    "pred, correct,_ = runner.get_predict_cv()\n",
    "plt.figure(figsize=(30, 30))\n",
    "plt.plot(pred, color='r')\n",
    "\n",
    "plt.plot(correct.values, color='black')\n",
    "plt.show()"
   ]
  },
  {
   "cell_type": "code",
   "execution_count": null,
   "metadata": {},
   "outputs": [],
   "source": [
    "# 特徴量の重要度をプロットする\n",
    "model = ModelLGBM('test-3', features)\n",
    "model.load_model()\n",
    "lgb.plot_importance(model.model, figsize=(30, 20))\n",
    "plt.savefig('data.png')"
   ]
  }
 ],
 "metadata": {
  "kernelspec": {
   "display_name": "Python 3",
   "language": "python",
   "name": "python3"
  }
 },
 "nbformat": 4,
 "nbformat_minor": 2
}
