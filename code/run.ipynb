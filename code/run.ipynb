{
 "cells": [
  {
   "cell_type": "code",
   "execution_count": 1,
   "metadata": {},
   "outputs": [],
   "source": [
    "from runner import Runner\n",
    "from model_lgb import ModelLGB\n",
    "import matplotlib.pyplot as plt\n",
    "import pandas as pd"
   ]
  },
  {
   "cell_type": "code",
   "execution_count": 2,
   "metadata": {},
   "outputs": [],
   "source": [
    "plt.rcParams[\"font.size\"] = 18"
   ]
  },
  {
   "cell_type": "code",
   "execution_count": 5,
   "metadata": {},
   "outputs": [],
   "source": [
    "prms = {\n",
    "    # lightGBM\n",
    "    'num_round': 10000,\n",
    "    'early_stopping_rounds': 10,\n",
    "    'task': 'train',\n",
    "    'boosting_type': 'gbdt',\n",
    "    'objective': 'regression',\n",
    "    'metrics': 'huber',\n",
    "    'num_leaves': 30,\n",
    "    'learning_rate': 0.3,\n",
    "    'verbose': 0,\n",
    "    \n",
    "    # target\n",
    "    'target': 'target',\n",
    "    \n",
    "    # 街・年\n",
    "    'cities': ['tokyo'],\n",
    "    'train_years': [i for i in range(2008, 2017)],\n",
    "    'valid_years': [2017],\n",
    "    'test_years': [2018],\n",
    "    \n",
    "    # cv\n",
    "    'cv': 'manual',\n",
    "}\n",
    "features = [\n",
    "    'target','最高気温', '平均気温', '最低気温', '平均湿度',\n",
    "    '平均現地気圧', '平均蒸気圧', '平均雲量', '平均風速', '日照時間'\n",
    "]"
   ]
  },
  {
   "cell_type": "code",
   "execution_count": 6,
   "metadata": {},
   "outputs": [
    {
     "name": "stdout",
     "output_type": "stream",
     "text": [
      "Index(['target', '最高気温', '平均気温', '最低気温', '平均湿度', '平均現地気圧', '平均蒸気圧', '平均雲量',\n",
      "       '平均風速', '日照時間'],\n",
      "      dtype='object')\n",
      "target\n",
      "Index(['target', '最高気温', '平均気温', '最低気温', '平均湿度', '平均現地気圧', '平均蒸気圧', '平均雲量',\n",
      "       '平均風速', '日照時間'],\n",
      "      dtype='object')\n",
      "target\n",
      "<class 'pandas.core.frame.DataFrame'>\n",
      "Index: 153 entries, 1253 to 1405\n",
      "Data columns (total 10 columns):\n",
      "target    153 non-null float64\n",
      "最高気温      153 non-null float64\n",
      "平均気温      153 non-null float64\n",
      "最低気温      153 non-null float64\n",
      "平均湿度      153 non-null int64\n",
      "平均現地気圧    153 non-null float64\n",
      "平均蒸気圧     153 non-null float64\n",
      "平均雲量      153 non-null float64\n",
      "平均風速      153 non-null float64\n",
      "日照時間      153 non-null float64\n",
      "dtypes: float64(9), int64(1)\n",
      "memory usage: 13.1+ KB\n",
      "Index(['target', '最高気温', '平均気温', '最低気温', '平均湿度', '平均現地気圧', '平均蒸気圧', '平均雲量',\n",
      "       '平均風速', '日照時間'],\n",
      "      dtype='object')\n",
      "target\n"
     ]
    },
    {
     "data": {
      "text/plain": [
       "23.032661689519653"
      ]
     },
     "execution_count": 6,
     "metadata": {},
     "output_type": "execute_result"
    }
   ],
   "source": [
    "runner = Runner('test', ModelLGB, features, prms)\n",
    "runner.run()"
   ]
  },
  {
   "cell_type": "code",
   "execution_count": null,
   "metadata": {},
   "outputs": [],
   "source": [
    "def get_all_multipy_names(multipy_num, feature_names):\n",
    "    def multipy(target_num, require_least_num, names):\n",
    "        if target_num == multipy_num:\n",
    "            name = names[0]\n",
    "            for i in range(1, multipy_num):\n",
    "                name += '_x_' + names[i]\n",
    "            return name\n",
    "        for i in range(require_least_num, len(feature_names)):\n",
    "            if feature_names[i] == 'target':\n",
    "                continue\n",
    "            result = multipy(target_num + 1, i + 1, names + [feature_names[i]])\n",
    "            if result is not None:\n",
    "                all_feature_names.append(result)\n",
    "    all_feature_names = []\n",
    "    multipy(0, 0, [])\n",
    "    return all_feature_names"
   ]
  },
  {
   "cell_type": "code",
   "execution_count": null,
   "metadata": {},
   "outputs": [],
   "source": [
    "feature_names = features.copy()\n",
    "for i in range(2, 7):\n",
    "    names = get_all_multipy_names(i, feature_names)\n",
    "    features += names\n",
    "features += ['Sunday', 'Monday', 'Tuesday', 'Wednesday', 'Thursday', 'Friday', 'Saturday']"
   ]
  },
  {
   "cell_type": "code",
   "execution_count": null,
   "metadata": {},
   "outputs": [],
   "source": [
    "features"
   ]
  },
  {
   "cell_type": "code",
   "execution_count": null,
   "metadata": {},
   "outputs": [],
   "source": [
    "dataset = Dataset(features)\n",
    "#dataset.add_past_day_data([i for i in range(1, 4)])\n",
    "\n",
    "runner = Runner('test', ModelLGBM, dataset, train_years, test_years, prms)\n",
    "\n",
    "runner.run_train_cv()\n",
    "runner.run_predict_cv()\n",
    "\n",
    "%matplotlib inline\n",
    "pred, correct,_ = runner.get_predict_cv()\n",
    "plt.figure(figsize=(30, 30))\n",
    "plt.plot(pred, color='r')\n",
    "\n",
    "plt.plot(correct.values, color='black')\n",
    "plt.show()"
   ]
  },
  {
   "cell_type": "code",
   "execution_count": null,
   "metadata": {},
   "outputs": [],
   "source": [
    "# 特徴量の重要度をプロットする\n",
    "model = ModelLGBM('test-3', features)\n",
    "model.load_model()\n",
    "plt.figure(figsize=(200, 200))\n",
    "lgb.plot_importance(model.model, figsize=(3, 100))\n",
    "plt.savefig('data.png')"
   ]
  },
  {
   "cell_type": "code",
   "execution_count": null,
   "metadata": {
    "scrolled": true
   },
   "outputs": [],
   "source": [
    "features = [\n",
    "    '最高気温',\n",
    "    '最高気温_x_平均気温',\n",
    "    '最高気温_x_平均気温_x_平均蒸気圧',\n",
    "    'target'\n",
    "]\n",
    "\n",
    "dataset = Dataset(features)\n",
    "\n",
    "runner = Runner('test', ModelLGBM, dataset, train_years, test_years, prms)\n",
    "\n",
    "runner.run_train_cv()\n",
    "runner.run_predict_cv()\n",
    "\n",
    "%matplotlib inline\n",
    "pred, correct,_ = runner.get_predict_cv()\n",
    "plt.figure(figsize=(30, 30))\n",
    "plt.plot(pred, color='r')\n",
    "\n",
    "plt.plot(correct.values, color='black')\n",
    "plt.show()"
   ]
  },
  {
   "cell_type": "code",
   "execution_count": null,
   "metadata": {},
   "outputs": [],
   "source": [
    "# 特徴量の重要度をプロットする\n",
    "model = ModelLGBM('test-3', features)\n",
    "model.load_model()\n",
    "lgb.plot_importance(model.model, figsize=(30, 20))\n",
    "plt.savefig('data.png')"
   ]
  }
 ],
 "metadata": {
  "kernelspec": {
   "display_name": "Python 3",
   "language": "python",
   "name": "python3"
  },
  "language_info": {
   "codemirror_mode": {
    "name": "ipython",
    "version": 3
   },
   "file_extension": ".py",
   "mimetype": "text/x-python",
   "name": "python",
   "nbconvert_exporter": "python",
   "pygments_lexer": "ipython3",
   "version": "3.7.3"
  }
 },
 "nbformat": 4,
 "nbformat_minor": 2
}
